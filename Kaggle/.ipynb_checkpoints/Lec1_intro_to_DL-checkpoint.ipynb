{
 "cells": [
  {
   "cell_type": "code",
   "execution_count": 1,
   "metadata": {},
   "outputs": [
    {
     "name": "stderr",
     "output_type": "stream",
     "text": [
      "Using TensorFlow backend.\n"
     ]
    }
   ],
   "source": [
    "%matplotlib inline\n",
    "import pandas as pd\n",
    "import numpy as np\n",
    "import matplotlib.pyplot as plt\n",
    "\n",
    "from keras.datasets import mnist\n",
    "from keras.layers import Dense, Input\n",
    "from keras.models import Model\n",
    "from keras.utils import np_utils\n",
    "from keras.callbacks import TensorBoard\n",
    "from keras import regularizers\n",
    "\n",
    "from sklearn.metrics import confusion_matrix"
   ]
  },
  {
   "cell_type": "markdown",
   "metadata": {},
   "source": [
    "# Let's train a hand-written digit classifier\n",
    "\n",
    "We will use the famous handwritten digit dataset MNIST.  This is a very popular data set for training small networks, since the data typically fits in local memory, and you can do convolutional networks with it.  This time, though, we will not be doing convolutional networks.  We will just be training a \"multi-layer perceptron\" or a \"fully-connected network\", keeping this as simple as possible to highlight how easy it is to use Keras.  We'll take each step in turn:\n",
    "- Data\n",
    "- Loss\n",
    "- Optimizer\n",
    "- Model\n",
    "- Callbacks\n",
    "- (Regularization)\n",
    "\n",
    "\n",
    "# Data\n",
    "MNIST is so famous it comes packaged with keras.  Let's take a look"
   ]
  },
  {
   "cell_type": "code",
   "execution_count": 2,
   "metadata": {},
   "outputs": [
    {
     "data": {
      "text/plain": [
       "(60000, 28, 28)"
      ]
     },
     "execution_count": 2,
     "metadata": {},
     "output_type": "execute_result"
    }
   ],
   "source": [
    "(train_feats, train_labels), (valid_feats, valid_labels) = mnist.load_data()\n",
    "train_feats.shape"
   ]
  },
  {
   "cell_type": "markdown",
   "metadata": {},
   "source": [
    "Ok, so in our training set we have 60k handwritten digits.  Each digit is an image of size 28 x 28.  Let's look at one of the images just to see what we're dealing with"
   ]
  },
  {
   "cell_type": "code",
   "execution_count": 3,
   "metadata": {},
   "outputs": [
    {
     "data": {
      "text/plain": [
       "array([[ 42,  54, 213, 241,  95,   0,   0,   0,   0,   0],\n",
       "       [  0,   0,  93, 254, 115,   0,   0,   0,   0,   0],\n",
       "       [  0,   0,  93, 255, 115,   0,   0,   0,   0,   0],\n",
       "       [  0,   0, 176, 254, 115,   0,   0,   0,   0,   0],\n",
       "       [  0,  28, 215, 254, 115,   0,   0,   0,   0,   0],\n",
       "       [134, 240, 253, 228,  40,   0,   0,   0,   0,   0],\n",
       "       [206, 254, 254,  68,   0,   0,   0,   0,   0,   0],\n",
       "       [ 29, 211, 253, 147,  21,   0,   0,   0,   0,   0],\n",
       "       [  0,  21, 180, 245, 228, 165, 116, 116, 116, 116],\n",
       "       [  0,   0,   0,  44, 119, 202, 253, 254, 253, 253]], dtype=uint8)"
      ]
     },
     "execution_count": 3,
     "metadata": {},
     "output_type": "execute_result"
    }
   ],
   "source": [
    "train_feats[558][10:20, 10:20] # this is just a slice of the middle"
   ]
  },
  {
   "cell_type": "code",
   "execution_count": 4,
   "metadata": {},
   "outputs": [
    {
     "data": {
      "image/png": "[encoded data removed]",
      "text/plain": [
       "<Figure size 576x576 with 9 Axes>"
      ]
     },
     "metadata": {
      "needs_background": "light"
     },
     "output_type": "display_data"
    }
   ],
   "source": [
    "# this is what we get if we plot the data with the pixel densities\n",
    "fig = plt.figure(figsize=(8,8))\n",
    "for i in range(9):\n",
    "    plt.subplot(3,3,i+1)\n",
    "    plt.imshow(train_feats[i], cmap='Greys', interpolation='none')\n",
    "    plt.title(\"Class {}\".format(train_labels[i]))\n",
    "plt.tight_layout()"
   ]
  },
  {
   "cell_type": "markdown",
   "metadata": {},
   "source": [
    "Handwritten digits are inherently 2-D, in that they have regular two-dimensional structure.  To better deal with that structure, we'll use Convolutional networks later, but for now what we'll do is just treat every pixel as if it is its own feature, and ask the question, can a neural network learn the complicated relationships that exist between individual pixel locations?  \n",
    "\n",
    "So we'll flatten all the features so each number is a one-dimensional vector of length 784"
   ]
  },
  {
   "cell_type": "code",
   "execution_count": 5,
   "metadata": {},
   "outputs": [],
   "source": [
    "train_feats = train_feats.reshape(60000, 784)\n",
    "valid_feats = valid_feats.reshape(10000, 784)"
   ]
  },
  {
   "cell_type": "markdown",
   "metadata": {},
   "source": [
    "Now let's look at the labels"
   ]
  },
  {
   "cell_type": "code",
   "execution_count": 6,
   "metadata": {},
   "outputs": [
    {
     "data": {
      "text/plain": [
       "array([5, 0, 4, 1, 9, 2, 1, 3, 1, 4], dtype=uint8)"
      ]
     },
     "execution_count": 6,
     "metadata": {},
     "output_type": "execute_result"
    }
   ],
   "source": [
    "train_labels[:10]"
   ]
  },
  {
   "cell_type": "markdown",
   "metadata": {},
   "source": [
    "The labels are integers corresponding to the actual digits.  We will need to one-hot-encode them.  (ie make them categorical, or dummy variables)"
   ]
  },
  {
   "cell_type": "code",
   "execution_count": 7,
   "metadata": {},
   "outputs": [],
   "source": [
    "# now let's make the labels categorical\n",
    "train_labels = pd.get_dummies(train_labels)\n",
    "valid_labels = pd.get_dummies(valid_labels)"
   ]
  },
  {
   "cell_type": "code",
   "execution_count": 8,
   "metadata": {},
   "outputs": [
    {
     "data": {
      "text/html": [
       "<div>\n",
       "<style scoped>\n",
       "    .dataframe tbody tr th:only-of-type {\n",
       "        vertical-align: middle;\n",
       "    }\n",
       "\n",
       "    .dataframe tbody tr th {\n",
       "        vertical-align: top;\n",
       "    }\n",
       "\n",
       "    .dataframe thead th {\n",
       "        text-align: right;\n",
       "    }\n",
       "</style>\n",
       "<table border=\"1\" class=\"dataframe\">\n",
       "  <thead>\n",
       "    <tr style=\"text-align: right;\">\n",
       "      <th></th>\n",
       "      <th>0</th>\n",
       "      <th>1</th>\n",
       "      <th>2</th>\n",
       "      <th>3</th>\n",
       "      <th>4</th>\n",
       "      <th>5</th>\n",
       "      <th>6</th>\n",
       "      <th>7</th>\n",
       "      <th>8</th>\n",
       "      <th>9</th>\n",
       "    </tr>\n",
       "  </thead>\n",
       "  <tbody>\n",
       "    <tr>\n",
       "      <td>0</td>\n",
       "      <td>0</td>\n",
       "      <td>0</td>\n",
       "      <td>0</td>\n",
       "      <td>0</td>\n",
       "      <td>0</td>\n",
       "      <td>1</td>\n",
       "      <td>0</td>\n",
       "      <td>0</td>\n",
       "      <td>0</td>\n",
       "      <td>0</td>\n",
       "    </tr>\n",
       "    <tr>\n",
       "      <td>1</td>\n",
       "      <td>1</td>\n",
       "      <td>0</td>\n",
       "      <td>0</td>\n",
       "      <td>0</td>\n",
       "      <td>0</td>\n",
       "      <td>0</td>\n",
       "      <td>0</td>\n",
       "      <td>0</td>\n",
       "      <td>0</td>\n",
       "      <td>0</td>\n",
       "    </tr>\n",
       "    <tr>\n",
       "      <td>2</td>\n",
       "      <td>0</td>\n",
       "      <td>0</td>\n",
       "      <td>0</td>\n",
       "      <td>0</td>\n",
       "      <td>1</td>\n",
       "      <td>0</td>\n",
       "      <td>0</td>\n",
       "      <td>0</td>\n",
       "      <td>0</td>\n",
       "      <td>0</td>\n",
       "    </tr>\n",
       "    <tr>\n",
       "      <td>3</td>\n",
       "      <td>0</td>\n",
       "      <td>1</td>\n",
       "      <td>0</td>\n",
       "      <td>0</td>\n",
       "      <td>0</td>\n",
       "      <td>0</td>\n",
       "      <td>0</td>\n",
       "      <td>0</td>\n",
       "      <td>0</td>\n",
       "      <td>0</td>\n",
       "    </tr>\n",
       "    <tr>\n",
       "      <td>4</td>\n",
       "      <td>0</td>\n",
       "      <td>0</td>\n",
       "      <td>0</td>\n",
       "      <td>0</td>\n",
       "      <td>0</td>\n",
       "      <td>0</td>\n",
       "      <td>0</td>\n",
       "      <td>0</td>\n",
       "      <td>0</td>\n",
       "      <td>1</td>\n",
       "    </tr>\n",
       "  </tbody>\n",
       "</table>\n",
       "</div>"
      ],
      "text/plain": [
       "   0  1  2  3  4  5  6  7  8  9\n",
       "0  0  0  0  0  0  1  0  0  0  0\n",
       "1  1  0  0  0  0  0  0  0  0  0\n",
       "2  0  0  0  0  1  0  0  0  0  0\n",
       "3  0  1  0  0  0  0  0  0  0  0\n",
       "4  0  0  0  0  0  0  0  0  0  1"
      ]
     },
     "execution_count": 8,
     "metadata": {},
     "output_type": "execute_result"
    }
   ],
   "source": [
    "train_labels.head(5)"
   ]
  },
  {
   "cell_type": "markdown",
   "metadata": {},
   "source": [
    "One more thing is we should probably normalize the data.  For now lets just scale it to between 0 and 1 by dividing by the max value (255)"
   ]
  },
  {
   "cell_type": "code",
   "execution_count": 9,
   "metadata": {},
   "outputs": [],
   "source": [
    "train_feats = train_feats / 255\n",
    "valid_feats = valid_feats / 255"
   ]
  },
  {
   "cell_type": "markdown",
   "metadata": {},
   "source": [
    "We could think about normalizing instead of just scaling, but let's call it good for now"
   ]
  },
  {
   "cell_type": "markdown",
   "metadata": {},
   "source": [
    "# Loss\n",
    "\n",
    "Since we are classifying each example as one of many different classes (digits), we will be attempting to minimize the categorical crossentropy function described in the lecture notes.  We'll see later how to make custom loss functions, but for now since we are using a common loss, we can just use the string identifier"
   ]
  },
  {
   "cell_type": "code",
   "execution_count": 10,
   "metadata": {},
   "outputs": [],
   "source": [
    "loss = 'categorical_crossentropy'"
   ]
  },
  {
   "cell_type": "markdown",
   "metadata": {},
   "source": [
    "# Optimizer\n",
    "We'll use the common optimizer \"Adam\" as described in the lectures.  Again, since it is a very common optimizer, we can just use the string identifier and Keras will initialize the Adam optimizer with default parameters when we compile"
   ]
  },
  {
   "cell_type": "code",
   "execution_count": 11,
   "metadata": {},
   "outputs": [],
   "source": [
    "opt = 'adam'"
   ]
  },
  {
   "cell_type": "markdown",
   "metadata": {},
   "source": [
    "# Model (activations)\n",
    "\n",
    "Great!  We're now ready to build, compile, and fit our Keras model.  We'll use the Keras functional API since we are not savages\n",
    "\n",
    "Our model will consist of an input layer, two Dense Layers, and a 10-dimensional output layer for predicting the digits.  For each layer we will consider what sort of activation functions to use.  For the hidden layers we'll use the reLU activation, which is fairly standard default at the moment.  The final activation layer will be a softmax"
   ]
  },
  {
   "cell_type": "code",
   "execution_count": 12,
   "metadata": {},
   "outputs": [
    {
     "name": "stdout",
     "output_type": "stream",
     "text": [
      "WARNING:tensorflow:From /Users/snell/anaconda3/lib/python3.6/site-packages/keras/backend/tensorflow_backend.py:74: The name tf.get_default_graph is deprecated. Please use tf.compat.v1.get_default_graph instead.\n",
      "\n",
      "WARNING:tensorflow:From /Users/snell/anaconda3/lib/python3.6/site-packages/keras/backend/tensorflow_backend.py:517: The name tf.placeholder is deprecated. Please use tf.compat.v1.placeholder instead.\n",
      "\n",
      "WARNING:tensorflow:From /Users/snell/anaconda3/lib/python3.6/site-packages/keras/backend/tensorflow_backend.py:4138: The name tf.random_uniform is deprecated. Please use tf.random.uniform instead.\n",
      "\n"
     ]
    }
   ],
   "source": [
    "inputs = Input(shape=(784,)) # Indicates batches of 784-dimensional vectors\n",
    "x = Dense(256, activation='relu')(inputs)\n",
    "x = Dense(256, activation='relu')(x)\n",
    "predictions = Dense(10, activation='softmax')(x)\n",
    "\n",
    "model = Model(inputs=inputs, outputs=predictions)"
   ]
  },
  {
   "cell_type": "markdown",
   "metadata": {},
   "source": [
    "Now we compile the model, telling it which optimizer and loss to use.  \n",
    "We'll also tell it to calculate accuracy at every epoch\n",
    "\n",
    "Then we'll print out a handy keras summary"
   ]
  },
  {
   "cell_type": "code",
   "execution_count": 13,
   "metadata": {},
   "outputs": [
    {
     "name": "stdout",
     "output_type": "stream",
     "text": [
      "WARNING:tensorflow:From /Users/snell/anaconda3/lib/python3.6/site-packages/keras/optimizers.py:790: The name tf.train.Optimizer is deprecated. Please use tf.compat.v1.train.Optimizer instead.\n",
      "\n",
      "WARNING:tensorflow:From /Users/snell/anaconda3/lib/python3.6/site-packages/keras/backend/tensorflow_backend.py:3295: The name tf.log is deprecated. Please use tf.math.log instead.\n",
      "\n",
      "_________________________________________________________________\n",
      "Layer (type)                 Output Shape              Param #   \n",
      "=================================================================\n",
      "input_1 (InputLayer)         (None, 784)               0         \n",
      "_________________________________________________________________\n",
      "dense_1 (Dense)              (None, 256)               200960    \n",
      "_________________________________________________________________\n",
      "dense_2 (Dense)              (None, 256)               65792     \n",
      "_________________________________________________________________\n",
      "dense_3 (Dense)              (None, 10)                2570      \n",
      "=================================================================\n",
      "Total params: 269,322\n",
      "Trainable params: 269,322\n",
      "Non-trainable params: 0\n",
      "_________________________________________________________________\n"
     ]
    }
   ],
   "source": [
    "model.compile(optimizer=opt,\n",
    "             loss=loss, \n",
    "             metrics=['accuracy'])\n",
    "\n",
    "model.summary()"
   ]
  },
  {
   "cell_type": "code",
   "execution_count": 14,
   "metadata": {},
   "outputs": [
    {
     "data": {
      "image/svg+xml": [
       "<svg height=\"304pt\" viewBox=\"0.00 0.00 277.00 304.00\" width=\"277pt\" xmlns=\"http://www.w3.org/2000/svg\" xmlns:xlink=\"http://www.w3.org/1999/xlink\">\n",
       "<g class=\"graph\" id=\"graph0\" transform=\"scale(1 1) rotate(0) translate(4 300)\">\n",
       "<title>G</title>\n",
       "<polygon fill=\"#ffffff\" points=\"-4,4 -4,-300 273,-300 273,4 -4,4\" stroke=\"transparent\"/>\n",
       "<!-- 112745709520 -->\n",
       "<g class=\"node\" id=\"node1\">\n",
       "<title>112745709520</title>\n",
       "<polygon fill=\"none\" points=\"0,-249.5 0,-295.5 269,-295.5 269,-249.5 0,-249.5\" stroke=\"#000000\"/>\n",
       "<text fill=\"#000000\" font-family=\"Times,serif\" font-size=\"14.00\" text-anchor=\"middle\" x=\"64.5\" y=\"-268.8\">input_1: InputLayer</text>\n",
       "<polyline fill=\"none\" points=\"129,-249.5 129,-295.5 \" stroke=\"#000000\"/>\n",
       "<text fill=\"#000000\" font-family=\"Times,serif\" font-size=\"14.00\" text-anchor=\"middle\" x=\"157\" y=\"-280.3\">input:</text>\n",
       "<polyline fill=\"none\" points=\"129,-272.5 185,-272.5 \" stroke=\"#000000\"/>\n",
       "<text fill=\"#000000\" font-family=\"Times,serif\" font-size=\"14.00\" text-anchor=\"middle\" x=\"157\" y=\"-257.3\">output:</text>\n",
       "<polyline fill=\"none\" points=\"185,-249.5 185,-295.5 \" stroke=\"#000000\"/>\n",
       "<text fill=\"#000000\" font-family=\"Times,serif\" font-size=\"14.00\" text-anchor=\"middle\" x=\"227\" y=\"-280.3\">(None, 784)</text>\n",
       "<polyline fill=\"none\" points=\"185,-272.5 269,-272.5 \" stroke=\"#000000\"/>\n",
       "<text fill=\"#000000\" font-family=\"Times,serif\" font-size=\"14.00\" text-anchor=\"middle\" x=\"227\" y=\"-257.3\">(None, 784)</text>\n",
       "</g>\n",
       "<!-- 112745707504 -->\n",
       "<g class=\"node\" id=\"node2\">\n",
       "<title>112745707504</title>\n",
       "<polygon fill=\"none\" points=\"12,-166.5 12,-212.5 257,-212.5 257,-166.5 12,-166.5\" stroke=\"#000000\"/>\n",
       "<text fill=\"#000000\" font-family=\"Times,serif\" font-size=\"14.00\" text-anchor=\"middle\" x=\"64.5\" y=\"-185.8\">dense_1: Dense</text>\n",
       "<polyline fill=\"none\" points=\"117,-166.5 117,-212.5 \" stroke=\"#000000\"/>\n",
       "<text fill=\"#000000\" font-family=\"Times,serif\" font-size=\"14.00\" text-anchor=\"middle\" x=\"145\" y=\"-197.3\">input:</text>\n",
       "<polyline fill=\"none\" points=\"117,-189.5 173,-189.5 \" stroke=\"#000000\"/>\n",
       "<text fill=\"#000000\" font-family=\"Times,serif\" font-size=\"14.00\" text-anchor=\"middle\" x=\"145\" y=\"-174.3\">output:</text>\n",
       "<polyline fill=\"none\" points=\"173,-166.5 173,-212.5 \" stroke=\"#000000\"/>\n",
       "<text fill=\"#000000\" font-family=\"Times,serif\" font-size=\"14.00\" text-anchor=\"middle\" x=\"215\" y=\"-197.3\">(None, 784)</text>\n",
       "<polyline fill=\"none\" points=\"173,-189.5 257,-189.5 \" stroke=\"#000000\"/>\n",
       "<text fill=\"#000000\" font-family=\"Times,serif\" font-size=\"14.00\" text-anchor=\"middle\" x=\"215\" y=\"-174.3\">(None, 256)</text>\n",
       "</g>\n",
       "<!-- 112745709520&#45;&gt;112745707504 -->\n",
       "<g class=\"edge\" id=\"edge1\">\n",
       "<title>112745709520-&gt;112745707504</title>\n",
       "<path d=\"M134.5,-249.3799C134.5,-241.1745 134.5,-231.7679 134.5,-222.8786\" fill=\"none\" stroke=\"#000000\"/>\n",
       "<polygon fill=\"#000000\" points=\"138.0001,-222.784 134.5,-212.784 131.0001,-222.784 138.0001,-222.784\" stroke=\"#000000\"/>\n",
       "</g>\n",
       "<!-- 112745709296 -->\n",
       "<g class=\"node\" id=\"node3\">\n",
       "<title>112745709296</title>\n",
       "<polygon fill=\"none\" points=\"12,-83.5 12,-129.5 257,-129.5 257,-83.5 12,-83.5\" stroke=\"#000000\"/>\n",
       "<text fill=\"#000000\" font-family=\"Times,serif\" font-size=\"14.00\" text-anchor=\"middle\" x=\"64.5\" y=\"-102.8\">dense_2: Dense</text>\n",
       "<polyline fill=\"none\" points=\"117,-83.5 117,-129.5 \" stroke=\"#000000\"/>\n",
       "<text fill=\"#000000\" font-family=\"Times,serif\" font-size=\"14.00\" text-anchor=\"middle\" x=\"145\" y=\"-114.3\">input:</text>\n",
       "<polyline fill=\"none\" points=\"117,-106.5 173,-106.5 \" stroke=\"#000000\"/>\n",
       "<text fill=\"#000000\" font-family=\"Times,serif\" font-size=\"14.00\" text-anchor=\"middle\" x=\"145\" y=\"-91.3\">output:</text>\n",
       "<polyline fill=\"none\" points=\"173,-83.5 173,-129.5 \" stroke=\"#000000\"/>\n",
       "<text fill=\"#000000\" font-family=\"Times,serif\" font-size=\"14.00\" text-anchor=\"middle\" x=\"215\" y=\"-114.3\">(None, 256)</text>\n",
       "<polyline fill=\"none\" points=\"173,-106.5 257,-106.5 \" stroke=\"#000000\"/>\n",
       "<text fill=\"#000000\" font-family=\"Times,serif\" font-size=\"14.00\" text-anchor=\"middle\" x=\"215\" y=\"-91.3\">(None, 256)</text>\n",
       "</g>\n",
       "<!-- 112745707504&#45;&gt;112745709296 -->\n",
       "<g class=\"edge\" id=\"edge2\">\n",
       "<title>112745707504-&gt;112745709296</title>\n",
       "<path d=\"M134.5,-166.3799C134.5,-158.1745 134.5,-148.7679 134.5,-139.8786\" fill=\"none\" stroke=\"#000000\"/>\n",
       "<polygon fill=\"#000000\" points=\"138.0001,-139.784 134.5,-129.784 131.0001,-139.784 138.0001,-139.784\" stroke=\"#000000\"/>\n",
       "</g>\n",
       "<!-- 112745708008 -->\n",
       "<g class=\"node\" id=\"node4\">\n",
       "<title>112745708008</title>\n",
       "<polygon fill=\"none\" points=\"12,-.5 12,-46.5 257,-46.5 257,-.5 12,-.5\" stroke=\"#000000\"/>\n",
       "<text fill=\"#000000\" font-family=\"Times,serif\" font-size=\"14.00\" text-anchor=\"middle\" x=\"64.5\" y=\"-19.8\">dense_3: Dense</text>\n",
       "<polyline fill=\"none\" points=\"117,-.5 117,-46.5 \" stroke=\"#000000\"/>\n",
       "<text fill=\"#000000\" font-family=\"Times,serif\" font-size=\"14.00\" text-anchor=\"middle\" x=\"145\" y=\"-31.3\">input:</text>\n",
       "<polyline fill=\"none\" points=\"117,-23.5 173,-23.5 \" stroke=\"#000000\"/>\n",
       "<text fill=\"#000000\" font-family=\"Times,serif\" font-size=\"14.00\" text-anchor=\"middle\" x=\"145\" y=\"-8.3\">output:</text>\n",
       "<polyline fill=\"none\" points=\"173,-.5 173,-46.5 \" stroke=\"#000000\"/>\n",
       "<text fill=\"#000000\" font-family=\"Times,serif\" font-size=\"14.00\" text-anchor=\"middle\" x=\"215\" y=\"-31.3\">(None, 256)</text>\n",
       "<polyline fill=\"none\" points=\"173,-23.5 257,-23.5 \" stroke=\"#000000\"/>\n",
       "<text fill=\"#000000\" font-family=\"Times,serif\" font-size=\"14.00\" text-anchor=\"middle\" x=\"215\" y=\"-8.3\">(None, 10)</text>\n",
       "</g>\n",
       "<!-- 112745709296&#45;&gt;112745708008 -->\n",
       "<g class=\"edge\" id=\"edge3\">\n",
       "<title>112745709296-&gt;112745708008</title>\n",
       "<path d=\"M134.5,-83.3799C134.5,-75.1745 134.5,-65.7679 134.5,-56.8786\" fill=\"none\" stroke=\"#000000\"/>\n",
       "<polygon fill=\"#000000\" points=\"138.0001,-56.784 134.5,-46.784 131.0001,-56.784 138.0001,-56.784\" stroke=\"#000000\"/>\n",
       "</g>\n",
       "</g>\n",
       "</svg>"
      ],
      "text/plain": [
       "<IPython.core.display.SVG object>"
      ]
     },
     "execution_count": 14,
     "metadata": {},
     "output_type": "execute_result"
    }
   ],
   "source": [
    "from IPython.display import SVG\n",
    "from keras.utils.vis_utils import model_to_dot\n",
    "\n",
    "SVG(model_to_dot(model, show_shapes=True, show_layer_names=True).create(prog='dot', format='svg'))\n",
    "# Note: input: shape is (None, 784) because the batch size is unknown. Shape fed to model is (batchsize, 784)"
   ]
  },
  {
   "cell_type": "markdown",
   "metadata": {},
   "source": [
    "Now we'll fit the model.  The things we need to give the fit function are: Training data, the number of epochs to run, and the batch size.  \n",
    "\n",
    "**epochs** An epoch is a somewhat arbitrary division of training, but for small closed data sets usually an epoch is an entire run through the training data.  You can specify smaller epochs\n",
    "\n",
    "Optionally we can also give it validation data, and it will calculate metrics on that data set as well\n",
    "\n",
    "If you want Keras to split the training data for you automatically, you can just pass it the parameter validation_split"
   ]
  },
  {
   "cell_type": "code",
   "execution_count": 15,
   "metadata": {},
   "outputs": [
    {
     "name": "stdout",
     "output_type": "stream",
     "text": [
      "WARNING:tensorflow:From /Users/snell/anaconda3/lib/python3.6/site-packages/tensorflow/python/ops/math_grad.py:1250: add_dispatch_support.<locals>.wrapper (from tensorflow.python.ops.array_ops) is deprecated and will be removed in a future version.\n",
      "Instructions for updating:\n",
      "Use tf.where in 2.0, which has the same broadcast rule as np.where\n",
      "WARNING:tensorflow:From /Users/snell/anaconda3/lib/python3.6/site-packages/keras/backend/tensorflow_backend.py:986: The name tf.assign_add is deprecated. Please use tf.compat.v1.assign_add instead.\n",
      "\n",
      "Train on 60000 samples, validate on 10000 samples\n",
      "Epoch 1/20\n",
      "60000/60000 [==============================] - 8s 134us/step - loss: 0.2179 - acc: 0.9361 - val_loss: 0.1095 - val_acc: 0.9655\n",
      "Epoch 2/20\n",
      "60000/60000 [==============================] - 7s 123us/step - loss: 0.0837 - acc: 0.9740 - val_loss: 0.0804 - val_acc: 0.9750\n",
      "Epoch 3/20\n",
      "60000/60000 [==============================] - 9s 147us/step - loss: 0.0564 - acc: 0.9821 - val_loss: 0.0870 - val_acc: 0.9714\n",
      "Epoch 4/20\n",
      "60000/60000 [==============================] - 7s 124us/step - loss: 0.0412 - acc: 0.9867 - val_loss: 0.0802 - val_acc: 0.9757\n",
      "Epoch 5/20\n",
      "60000/60000 [==============================] - 7s 122us/step - loss: 0.0321 - acc: 0.9893 - val_loss: 0.0901 - val_acc: 0.9749\n",
      "Epoch 6/20\n",
      "60000/60000 [==============================] - 7s 122us/step - loss: 0.0251 - acc: 0.9916 - val_loss: 0.0811 - val_acc: 0.9772\n",
      "Epoch 7/20\n",
      "60000/60000 [==============================] - 7s 115us/step - loss: 0.0222 - acc: 0.9926 - val_loss: 0.1047 - val_acc: 0.9736\n",
      "Epoch 8/20\n",
      "60000/60000 [==============================] - 7s 116us/step - loss: 0.0209 - acc: 0.9928 - val_loss: 0.1038 - val_acc: 0.9743\n",
      "Epoch 9/20\n",
      "60000/60000 [==============================] - 7s 118us/step - loss: 0.0163 - acc: 0.9942 - val_loss: 0.0866 - val_acc: 0.9782\n",
      "Epoch 10/20\n",
      "60000/60000 [==============================] - 7s 118us/step - loss: 0.0150 - acc: 0.9953 - val_loss: 0.0816 - val_acc: 0.9802\n",
      "Epoch 11/20\n",
      "60000/60000 [==============================] - 7s 118us/step - loss: 0.0146 - acc: 0.9951 - val_loss: 0.0925 - val_acc: 0.9787\n",
      "Epoch 12/20\n",
      "60000/60000 [==============================] - 7s 119us/step - loss: 0.0102 - acc: 0.9967 - val_loss: 0.0954 - val_acc: 0.9787\n",
      "Epoch 13/20\n",
      "60000/60000 [==============================] - 7s 119us/step - loss: 0.0114 - acc: 0.9963 - val_loss: 0.1024 - val_acc: 0.9776\n",
      "Epoch 14/20\n",
      "60000/60000 [==============================] - 8s 133us/step - loss: 0.0104 - acc: 0.9962 - val_loss: 0.0940 - val_acc: 0.9799\n",
      "Epoch 15/20\n",
      "60000/60000 [==============================] - 7s 124us/step - loss: 0.0115 - acc: 0.9964 - val_loss: 0.0965 - val_acc: 0.9800\n",
      "Epoch 16/20\n",
      "60000/60000 [==============================] - 7s 119us/step - loss: 0.0091 - acc: 0.9972 - val_loss: 0.0895 - val_acc: 0.9818\n",
      "Epoch 17/20\n",
      "60000/60000 [==============================] - 7s 119us/step - loss: 0.0120 - acc: 0.9963 - val_loss: 0.1069 - val_acc: 0.9791\n",
      "Epoch 18/20\n",
      "60000/60000 [==============================] - 8s 129us/step - loss: 0.0086 - acc: 0.9971 - val_loss: 0.0990 - val_acc: 0.9806\n",
      "Epoch 19/20\n",
      "60000/60000 [==============================] - 7s 115us/step - loss: 0.0063 - acc: 0.9980 - val_loss: 0.1206 - val_acc: 0.9779\n",
      "Epoch 20/20\n",
      "60000/60000 [==============================] - 7s 115us/step - loss: 0.0090 - acc: 0.9972 - val_loss: 0.1190 - val_acc: 0.9775\n"
     ]
    }
   ],
   "source": [
    "n_epochs = 20\n",
    "history = model.fit(train_feats, train_labels,\n",
    "         epochs=n_epochs,\n",
    "         batch_size=64,\n",
    "         validation_data = (valid_feats, valid_labels),\n",
    "         verbose=1)"
   ]
  },
  {
   "cell_type": "markdown",
   "metadata": {},
   "source": [
    "Great! We have some data about the accuracy of the model but just for fun let's make a confusion matrix"
   ]
  },
  {
   "cell_type": "code",
   "execution_count": 16,
   "metadata": {},
   "outputs": [
    {
     "data": {
      "text/plain": [
       "array([[ 973,    1,    0,    2,    0,    0,    1,    0,    2,    1],\n",
       "       [   0, 1129,    0,    0,    0,    0,    1,    1,    4,    0],\n",
       "       [   6,    3,  986,   20,    3,    0,    2,    2,    9,    1],\n",
       "       [   0,    0,    0,  994,    1,    1,    0,    2,    4,    8],\n",
       "       [   1,    1,    3,    0,  960,    0,    3,    0,    1,   13],\n",
       "       [   3,    1,    0,   22,    1,  850,    5,    1,    6,    3],\n",
       "       [   3,    3,    1,    1,    4,    3,  943,    0,    0,    0],\n",
       "       [   4,    4,    9,    3,    1,    0,    0,  999,    3,    5],\n",
       "       [   1,    0,    1,    3,    4,    2,    0,    4,  954,    5],\n",
       "       [   4,    2,    0,    3,    6,    0,    0,    4,    3,  987]])"
      ]
     },
     "execution_count": 16,
     "metadata": {},
     "output_type": "execute_result"
    }
   ],
   "source": [
    "valid_pred = np.argmax(model.predict(valid_feats), 1)\n",
    "valid_labels_dense = np.argmax(valid_labels.values, 1)\n",
    "confusion_matrix(valid_labels_dense, valid_pred)"
   ]
  },
  {
   "cell_type": "markdown",
   "metadata": {},
   "source": [
    "We can also use the training history and plot it"
   ]
  },
  {
   "cell_type": "code",
   "execution_count": 17,
   "metadata": {},
   "outputs": [
    {
     "name": "stdout",
     "output_type": "stream",
     "text": [
      "dict_keys(['val_loss', 'val_acc', 'loss', 'acc'])\n"
     ]
    },
    {
     "data": {
      "image/png": "[encoded data removed]",
      "text/plain": [
       "<Figure size 432x288 with 1 Axes>"
      ]
     },
     "metadata": {
      "needs_background": "light"
     },
     "output_type": "display_data"
    },
    {
     "data": {
      "image/png": "[encoded data removed]",
      "text/plain": [
       "<Figure size 432x288 with 1 Axes>"
      ]
     },
     "metadata": {
      "needs_background": "light"
     },
     "output_type": "display_data"
    }
   ],
   "source": [
    "# list all data in history\n",
    "print(history.history.keys())\n",
    "\n",
    "# Plot training & validation accuracy values\n",
    "plt.plot(history.history['acc'])\n",
    "plt.plot(history.history['val_acc'])\n",
    "plt.title('Model accuracy')\n",
    "plt.ylabel('Accuracy')\n",
    "plt.xlabel('Epoch')\n",
    "plt.legend(['Train', 'Test'], loc='upper left')\n",
    "plt.show()\n",
    "\n",
    "# Plot training & validation loss values\n",
    "plt.plot(history.history['loss'])\n",
    "plt.plot(history.history['val_loss'])\n",
    "plt.title('Model loss')\n",
    "plt.ylabel('Loss')\n",
    "plt.xlabel('Epoch')\n",
    "plt.legend(['Train', 'Test'], loc='upper left')\n",
    "plt.show()"
   ]
  },
  {
   "cell_type": "markdown",
   "metadata": {},
   "source": [
    "# Callbacks\n",
    "\n",
    "Callbacks are extremely useful in Keras.  They allow you to specify any particular action you want done at periodic intervals, typically at the end of each epoch.  Common options include:\n",
    "\n",
    "- Checkpoint the model by saving it periodically\n",
    "- Keep track of the model with the best validation performance\n",
    "- write to a log.  TENSORBOARD\n",
    "- Calculate custom metrics that can't be calculated over batches (like auc)\n",
    "\n",
    "\n",
    "Let's retrain the above model, but using a Tensorboard callback.  We'll also remake the model and add in another metric, 'accuracy', for keras to keep track of and log.\n",
    "\n",
    "To access tensorboard, run \"tensorboard --logdir ..logs/\" replacing ..logs/ with whatever you set your log directory to be below\n",
    "\n",
    "You can also view the tensorboard in a separate notebook\n",
    "<pre>\n",
    "%load_ext tensorboard\n",
    "%tensorboard --logdir ../logs/mnist_model3\n",
    "</pre>"
   ]
  },
  {
   "cell_type": "code",
   "execution_count": 18,
   "metadata": {},
   "outputs": [],
   "source": [
    "# change the name of the callback every time you run it so you don't write multiple training runs to the same log\n",
    "tb_callback = TensorBoard('../logs/mnist_model3')"
   ]
  },
  {
   "cell_type": "code",
   "execution_count": 19,
   "metadata": {
    "scrolled": false
   },
   "outputs": [
    {
     "name": "stdout",
     "output_type": "stream",
     "text": [
      "_________________________________________________________________\n",
      "Layer (type)                 Output Shape              Param #   \n",
      "=================================================================\n",
      "input_1 (InputLayer)         (None, 784)               0         \n",
      "_________________________________________________________________\n",
      "dense_1 (Dense)              (None, 256)               200960    \n",
      "_________________________________________________________________\n",
      "dense_2 (Dense)              (None, 256)               65792     \n",
      "_________________________________________________________________\n",
      "dense_3 (Dense)              (None, 10)                2570      \n",
      "=================================================================\n",
      "Total params: 269,322\n",
      "Trainable params: 269,322\n",
      "Non-trainable params: 0\n",
      "_________________________________________________________________\n",
      "Train on 60000 samples, validate on 10000 samples\n",
      "WARNING:tensorflow:From /Users/snell/anaconda3/lib/python3.6/site-packages/keras/callbacks.py:850: The name tf.summary.merge_all is deprecated. Please use tf.compat.v1.summary.merge_all instead.\n",
      "\n",
      "WARNING:tensorflow:From /Users/snell/anaconda3/lib/python3.6/site-packages/keras/callbacks.py:853: The name tf.summary.FileWriter is deprecated. Please use tf.compat.v1.summary.FileWriter instead.\n",
      "\n",
      "Epoch 1/30\n",
      "60000/60000 [==============================] - 8s 130us/step - loss: 0.0101 - acc: 0.9969 - val_loss: 0.1331 - val_acc: 0.9791\n",
      "Epoch 2/30\n",
      "60000/60000 [==============================] - 7s 112us/step - loss: 0.0078 - acc: 0.9978 - val_loss: 0.1101 - val_acc: 0.9807\n",
      "Epoch 3/30\n",
      "60000/60000 [==============================] - 7s 113us/step - loss: 0.0064 - acc: 0.9982 - val_loss: 0.1057 - val_acc: 0.9811\n",
      "Epoch 4/30\n",
      "60000/60000 [==============================] - 8s 134us/step - loss: 0.0067 - acc: 0.9980 - val_loss: 0.1044 - val_acc: 0.9820\n",
      "Epoch 5/30\n",
      "60000/60000 [==============================] - 7s 124us/step - loss: 0.0082 - acc: 0.9976 - val_loss: 0.1315 - val_acc: 0.9784\n",
      "Epoch 6/30\n",
      "60000/60000 [==============================] - 8s 126us/step - loss: 0.0086 - acc: 0.9976 - val_loss: 0.1154 - val_acc: 0.9807\n",
      "Epoch 7/30\n",
      "60000/60000 [==============================] - 8s 129us/step - loss: 0.0043 - acc: 0.9986 - val_loss: 0.1105 - val_acc: 0.9798\n",
      "Epoch 8/30\n",
      "60000/60000 [==============================] - 7s 121us/step - loss: 0.0078 - acc: 0.9975 - val_loss: 0.1257 - val_acc: 0.9788\n",
      "Epoch 9/30\n",
      "60000/60000 [==============================] - 7s 124us/step - loss: 0.0054 - acc: 0.9984 - val_loss: 0.1149 - val_acc: 0.9830\n",
      "Epoch 10/30\n",
      "60000/60000 [==============================] - 7s 112us/step - loss: 0.0082 - acc: 0.9974 - val_loss: 0.1243 - val_acc: 0.9812\n",
      "Epoch 11/30\n",
      "60000/60000 [==============================] - 7s 119us/step - loss: 0.0073 - acc: 0.9979 - val_loss: 0.1251 - val_acc: 0.9816\n",
      "Epoch 12/30\n",
      "60000/60000 [==============================] - 7s 123us/step - loss: 0.0046 - acc: 0.9987 - val_loss: 0.1198 - val_acc: 0.9817\n",
      "Epoch 13/30\n",
      "60000/60000 [==============================] - 7s 118us/step - loss: 0.0070 - acc: 0.9982 - val_loss: 0.1303 - val_acc: 0.9804\n",
      "Epoch 14/30\n",
      "60000/60000 [==============================] - 7s 114us/step - loss: 0.0056 - acc: 0.9984 - val_loss: 0.1197 - val_acc: 0.9817\n",
      "Epoch 15/30\n",
      "60000/60000 [==============================] - 7s 120us/step - loss: 0.0063 - acc: 0.9985 - val_loss: 0.1345 - val_acc: 0.9813\n",
      "Epoch 16/30\n",
      "60000/60000 [==============================] - 7s 112us/step - loss: 0.0052 - acc: 0.9985 - val_loss: 0.1192 - val_acc: 0.9826\n",
      "Epoch 17/30\n",
      "60000/60000 [==============================] - 7s 111us/step - loss: 0.0019 - acc: 0.9994 - val_loss: 0.1298 - val_acc: 0.9797\n",
      "Epoch 18/30\n",
      "60000/60000 [==============================] - 8s 140us/step - loss: 0.0104 - acc: 0.9976 - val_loss: 0.1366 - val_acc: 0.9800\n",
      "Epoch 19/30\n",
      "60000/60000 [==============================] - 8s 133us/step - loss: 0.0062 - acc: 0.9984 - val_loss: 0.1348 - val_acc: 0.9814\n",
      "Epoch 20/30\n",
      "60000/60000 [==============================] - 8s 135us/step - loss: 0.0068 - acc: 0.9983 - val_loss: 0.1393 - val_acc: 0.9801\n",
      "Epoch 21/30\n",
      "60000/60000 [==============================] - 7s 122us/step - loss: 0.0042 - acc: 0.9988 - val_loss: 0.1542 - val_acc: 0.9794\n",
      "Epoch 22/30\n",
      "60000/60000 [==============================] - 7s 124us/step - loss: 0.0048 - acc: 0.9987 - val_loss: 0.1513 - val_acc: 0.9813\n",
      "Epoch 23/30\n",
      "60000/60000 [==============================] - 8s 129us/step - loss: 0.0052 - acc: 0.9987 - val_loss: 0.1537 - val_acc: 0.9786\n",
      "Epoch 24/30\n",
      "60000/60000 [==============================] - 8s 126us/step - loss: 0.0071 - acc: 0.9982 - val_loss: 0.1363 - val_acc: 0.9811\n",
      "Epoch 25/30\n",
      "60000/60000 [==============================] - 7s 118us/step - loss: 0.0075 - acc: 0.9982 - val_loss: 0.1429 - val_acc: 0.9813\n",
      "Epoch 26/30\n",
      "60000/60000 [==============================] - 7s 115us/step - loss: 0.0048 - acc: 0.9986 - val_loss: 0.1560 - val_acc: 0.9811\n",
      "Epoch 27/30\n",
      "60000/60000 [==============================] - 8s 126us/step - loss: 0.0027 - acc: 0.9992 - val_loss: 0.1320 - val_acc: 0.9835\n",
      "Epoch 28/30\n",
      "60000/60000 [==============================] - 8s 129us/step - loss: 0.0072 - acc: 0.9982 - val_loss: 0.1516 - val_acc: 0.9809\n",
      "Epoch 29/30\n",
      "60000/60000 [==============================] - 7s 119us/step - loss: 0.0026 - acc: 0.9991 - val_loss: 0.1311 - val_acc: 0.9831\n",
      "Epoch 30/30\n",
      "60000/60000 [==============================] - 7s 122us/step - loss: 0.0049 - acc: 0.9987 - val_loss: 0.1579 - val_acc: 0.9799\n"
     ]
    },
    {
     "data": {
      "text/plain": [
       "<keras.callbacks.History at 0x1a5ae19128>"
      ]
     },
     "execution_count": 19,
     "metadata": {},
     "output_type": "execute_result"
    }
   ],
   "source": [
    "model.compile(optimizer=opt,\n",
    "             loss=loss, \n",
    "             metrics=['accuracy'])\n",
    "\n",
    "model.summary()\n",
    "\n",
    "model.fit(train_feats, train_labels,\n",
    "         epochs=30,\n",
    "         batch_size=64,\n",
    "         validation_data = (valid_feats, valid_labels),\n",
    "         callbacks=[tb_callback])"
   ]
  },
  {
   "cell_type": "markdown",
   "metadata": {},
   "source": [
    "# Regularization\n",
    "\n",
    "Regularization is a huge part of deep learning, and we'll spend A LOT more time talking about it.  You should see that the model we have trained is overfit to the training set. But for now with what we've learned so far, it may be useful to try some regularization.\n",
    "\n",
    "- **Limiting model capacity.** Models with fewer parameters are less able to overfit.  Limit model capacity, usually by decreasing the number of layers or the number of nodes per layer.\n",
    "- **Early stopping.** The longer you train, the more likely the model will memorize noise between the training set and the labels.  Monitor validation metrics, and if they start getting bad while the training metrics continue to improve, you may want to stop training there.  In Keras, often \"early stopping\" is handled by callbacks which can either save models periodically (so you can get the best ones from the past if the model starts overfitting), or by dropping the learning rate progressively to zero as the validation metrics get worse and worse.\n",
    "- **L1, L2 regularization** Add a penalty for high weights to the loss.  In practice this is less common than it is in simple linear/logistic regression, but it is valid and still used.\n",
    "\n",
    "\n",
    "In deep learning practice, much of your time will be spent experimenting with regularization strategies"
   ]
  },
  {
   "cell_type": "code",
   "execution_count": 20,
   "metadata": {
    "scrolled": false
   },
   "outputs": [
    {
     "name": "stdout",
     "output_type": "stream",
     "text": [
      "_________________________________________________________________\n",
      "Layer (type)                 Output Shape              Param #   \n",
      "=================================================================\n",
      "input_2 (InputLayer)         (None, 784)               0         \n",
      "_________________________________________________________________\n",
      "dense_4 (Dense)              (None, 64)                50240     \n",
      "_________________________________________________________________\n",
      "dense_5 (Dense)              (None, 64)                4160      \n",
      "_________________________________________________________________\n",
      "dense_6 (Dense)              (None, 10)                650       \n",
      "=================================================================\n",
      "Total params: 55,050\n",
      "Trainable params: 55,050\n",
      "Non-trainable params: 0\n",
      "_________________________________________________________________\n",
      "Train on 60000 samples, validate on 10000 samples\n",
      "Epoch 1/20\n",
      "60000/60000 [==============================] - 6s 103us/step - loss: 0.4681 - acc: 0.9023 - val_loss: 0.2992 - val_acc: 0.9481\n",
      "Epoch 2/20\n",
      "60000/60000 [==============================] - 5s 86us/step - loss: 0.2779 - acc: 0.9520 - val_loss: 0.2468 - val_acc: 0.9579\n",
      "Epoch 3/20\n",
      "60000/60000 [==============================] - 5s 82us/step - loss: 0.2307 - acc: 0.9628 - val_loss: 0.2182 - val_acc: 0.9643\n",
      "Epoch 4/20\n",
      "60000/60000 [==============================] - 5s 78us/step - loss: 0.2064 - acc: 0.9679 - val_loss: 0.2075 - val_acc: 0.9640\n",
      "Epoch 5/20\n",
      "60000/60000 [==============================] - 5s 87us/step - loss: 0.1908 - acc: 0.9708 - val_loss: 0.1912 - val_acc: 0.9683\n",
      "Epoch 6/20\n",
      "60000/60000 [==============================] - 5s 79us/step - loss: 0.1781 - acc: 0.9734 - val_loss: 0.1772 - val_acc: 0.9710\n",
      "Epoch 7/20\n",
      "60000/60000 [==============================] - 5s 84us/step - loss: 0.1718 - acc: 0.9734 - val_loss: 0.1896 - val_acc: 0.9689\n",
      "Epoch 8/20\n",
      "60000/60000 [==============================] - 6s 104us/step - loss: 0.1651 - acc: 0.9740 - val_loss: 0.1620 - val_acc: 0.9752\n",
      "Epoch 9/20\n",
      "60000/60000 [==============================] - 6s 95us/step - loss: 0.1591 - acc: 0.9762 - val_loss: 0.1618 - val_acc: 0.9729\n",
      "Epoch 10/20\n",
      "60000/60000 [==============================] - 6s 99us/step - loss: 0.1535 - acc: 0.9767 - val_loss: 0.1698 - val_acc: 0.9717\n",
      "Epoch 11/20\n",
      "60000/60000 [==============================] - 6s 95us/step - loss: 0.1515 - acc: 0.9767 - val_loss: 0.1492 - val_acc: 0.9769\n",
      "Epoch 12/20\n",
      "60000/60000 [==============================] - 5s 90us/step - loss: 0.1478 - acc: 0.9773 - val_loss: 0.1651 - val_acc: 0.9701\n",
      "Epoch 13/20\n",
      "60000/60000 [==============================] - 5s 90us/step - loss: 0.1443 - acc: 0.9777 - val_loss: 0.1531 - val_acc: 0.9750\n",
      "Epoch 14/20\n",
      "60000/60000 [==============================] - 6s 97us/step - loss: 0.1413 - acc: 0.9786 - val_loss: 0.1682 - val_acc: 0.9691\n",
      "Epoch 15/20\n",
      "60000/60000 [==============================] - 7s 109us/step - loss: 0.1400 - acc: 0.9782 - val_loss: 0.1570 - val_acc: 0.9720\n",
      "Epoch 16/20\n",
      "60000/60000 [==============================] - 5s 86us/step - loss: 0.1365 - acc: 0.9796 - val_loss: 0.1526 - val_acc: 0.9744\n",
      "Epoch 17/20\n",
      "60000/60000 [==============================] - 5s 85us/step - loss: 0.1351 - acc: 0.9794 - val_loss: 0.1410 - val_acc: 0.9760\n",
      "Epoch 18/20\n",
      "60000/60000 [==============================] - 5s 83us/step - loss: 0.1336 - acc: 0.9795 - val_loss: 0.1517 - val_acc: 0.9733\n",
      "Epoch 19/20\n",
      "60000/60000 [==============================] - 5s 80us/step - loss: 0.1306 - acc: 0.9798 - val_loss: 0.1486 - val_acc: 0.9728\n",
      "Epoch 20/20\n",
      "60000/60000 [==============================] - 5s 76us/step - loss: 0.1302 - acc: 0.9800 - val_loss: 0.1457 - val_acc: 0.9736\n"
     ]
    },
    {
     "data": {
      "text/plain": [
       "<keras.callbacks.History at 0x1a7fa179e8>"
      ]
     },
     "execution_count": 20,
     "metadata": {},
     "output_type": "execute_result"
    }
   ],
   "source": [
    "tb_callback = TensorBoard('../logs/mnist_model4')\n",
    "\n",
    "#initialize an l2 regularization - adds a penalty term to the loss function\n",
    "l2_reg = regularizers.l2(.001)\n",
    "\n",
    "inputs = Input(shape=(784,))\n",
    "# go down to layer size 64.  \n",
    "# Note what happens to the number of model parameters in the summary\n",
    "\n",
    "x = Dense(64, activation='relu', kernel_regularizer=l2_reg)(inputs)\n",
    "x = Dense(64, activation='relu', kernel_regularizer=l2_reg)(x)\n",
    "predictions = Dense(10, activation='softmax')(x)\n",
    "\n",
    "model = Model(inputs=inputs, outputs=predictions)\n",
    "\n",
    "model.compile(optimizer=opt,\n",
    "             loss=loss, \n",
    "             metrics=['accuracy'])\n",
    "\n",
    "model.summary()\n",
    "\n",
    "# go down to 20 epochs\n",
    "model.fit(train_feats, train_labels,\n",
    "         epochs=20,\n",
    "         batch_size=64,\n",
    "         validation_data = (valid_feats, valid_labels),\n",
    "         callbacks=[tb_callback])"
   ]
  },
  {
   "cell_type": "markdown",
   "metadata": {},
   "source": [
    "Examine the loss and validation loss above or in Tensorboard. Is the model less overfit?  Was there enough regularization?  Too much?  Just right?\n",
    "\n",
    "Loss can be seen as a distance between the true values of the problem and the values predicted by the model. Greater the loss is, more huge is the errors you made on the data.\n",
    "\n",
    "Accuracy can be seen as the numbers of error you made on the data.\n",
    "\n",
    "That means :\n",
    "- a low accuracy and huge loss means you made huge errors on a lot of data\n",
    "- a low accuracy but low loss means you made little errors on a lot of data\n",
    "- a great accuracy with low loss means you made low errors on a few data (best case)\n",
    "- a great accuracy but a huge loss, means you made huge errors on a few data.\n",
    "\n",
    "\n",
    "NOTE :\n",
    "\n",
    "Don't forget that low or huge loss is a subjective metric, which depends on the problem and the data. It's a distance between the true value of the prediction, and the prediction made by the model. It depends also on the loss you use.\n",
    "\n",
    "Think :\n",
    "- If your data are between 0 and 1, a loss of 0.5 is huge, but if your data are between 0 and 255, an error of 0.5 is low.\n",
    "- Maybe think of cancer detection, and probability of detecting a cancer. Maybe an error of 0.1 is huge for this problem, whereas an error of 0.1 for image classification is fine.\n",
    "\n"
   ]
  },
  {
   "cell_type": "code",
   "execution_count": null,
   "metadata": {},
   "outputs": [],
   "source": []
  }
 ],
 "metadata": {
  "kernelspec": {
   "display_name": "Python 3",
   "language": "python",
   "name": "python3"
  },
  "language_info": {
   "codemirror_mode": {
    "name": "ipython",
    "version": 3
   },
   "file_extension": ".py",
   "mimetype": "text/x-python",
   "name": "python",
   "nbconvert_exporter": "python",
   "pygments_lexer": "ipython3",
   "version": "3.7.3"
  }
 },
 "nbformat": 4,
 "nbformat_minor": 2
}
